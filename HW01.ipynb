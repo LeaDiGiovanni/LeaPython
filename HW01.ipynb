{
  "nbformat": 4,
  "nbformat_minor": 0,
  "metadata": {
    "colab": {
      "provenance": []
    },
    "kernelspec": {
      "name": "python3",
      "display_name": "Python 3"
    },
    "language_info": {
      "name": "python"
    }
  },
  "cells": [
    {
      "cell_type": "markdown",
      "source": [
        "# HW 01"
      ],
      "metadata": {
        "id": "JaguTAItuC48"
      }
    },
    {
      "cell_type": "markdown",
      "source": [
        "### Q1. Write a program to input your age and print whether you are more than or less than a billion seconds old."
      ],
      "metadata": {
        "id": "8N08oInsuN8g"
      }
    },
    {
      "cell_type": "code",
      "execution_count": 2,
      "metadata": {
        "id": "KlPvWPxRuCVz",
        "outputId": "fc8cdeac-a9c1-44a8-c672-9e55242f50e7",
        "colab": {
          "base_uri": "https://localhost:8080/"
        }
      },
      "outputs": [
        {
          "output_type": "stream",
          "name": "stdout",
          "text": [
            "What is your age?\n",
            "21\n",
            "You are less than a billion years old\n"
          ]
        }
      ],
      "source": [
        "## Enter answer here.\n",
        "print(\"What is your age?\")\n",
        "Age = int(input())\n",
        "if Age < 31 :\n",
        "  print(\"You are less than a billion years old\")\n",
        "\n"
      ]
    },
    {
      "cell_type": "markdown",
      "source": [
        "### Q2. Create a list with 10 names. Print each name with a Good morning greeting with the name using a conditional loop.\n",
        "\n",
        "For example\n",
        "\n",
        "`name = ['Ashley', 'Brianna', 'Chetan', 'David', 'Eoin', 'Francois', 'Gemma', 'Hameed', 'Ishaan', 'Joanna']`\n",
        "\n",
        "Outputs will be 'Good morning, Ashley', 'Good morning, Brianna', and so on."
      ],
      "metadata": {
        "id": "X3IPYLTgvnDh"
      }
    },
    {
      "cell_type": "code",
      "source": [
        "## Enter answer here.\n",
        "\n",
        "name = [\"Lea\", \"Allison\", \"Hayley\", \"Liz\", \"Julia\", \"Meredith\", \"Katie\", \"Emma\", \"Max\", \"Anna\"]\n",
        "for i in name:\n",
        "  print(\"Good morning,\", i)"
      ],
      "metadata": {
        "id": "MFG2cvatvmr2",
        "outputId": "28732084-0f1b-413c-f387-b63d4906ebdb",
        "colab": {
          "base_uri": "https://localhost:8080/"
        }
      },
      "execution_count": 3,
      "outputs": [
        {
          "output_type": "stream",
          "name": "stdout",
          "text": [
            "Good morning, Lea\n",
            "Good morning, Allison\n",
            "Good morning, Hayley\n",
            "Good morning, Liz\n",
            "Good morning, Julia\n",
            "Good morning, Meredith\n",
            "Good morning, Katie\n",
            "Good morning, Emma\n",
            "Good morning, Max\n",
            "Good morning, Anna\n"
          ]
        }
      ]
    },
    {
      "cell_type": "markdown",
      "source": [
        "### Q3. Create a list of 15 numbers. Print only those numbers that are divisible by 2."
      ],
      "metadata": {
        "id": "niM878Jrx1bf"
      }
    },
    {
      "cell_type": "code",
      "source": [
        "## Enter answer here.\n",
        "\n",
        "list = [1,2,3,4,5,6,7,8,9,10,11,12,13,14,15]\n",
        "for i in list:\n",
        "  if i%2 == 0:\n",
        "    print(i)"
      ],
      "metadata": {
        "id": "m7XjkMn8uUY2",
        "outputId": "bc27f961-26fb-44a0-be8f-dfb721ee0041",
        "colab": {
          "base_uri": "https://localhost:8080/"
        }
      },
      "execution_count": 4,
      "outputs": [
        {
          "output_type": "stream",
          "name": "stdout",
          "text": [
            "2\n",
            "4\n",
            "6\n",
            "8\n",
            "10\n",
            "12\n",
            "14\n"
          ]
        }
      ]
    },
    {
      "cell_type": "markdown",
      "source": [
        "### Q4. Print the squared numbers of a list containing at least 10 numbers with a mix of float, integer, and negative numbers. Use the longer method as well as list comprehension.\n",
        "\n",
        "You can either generate your own list of 10 numbers or find use a random number generator."
      ],
      "metadata": {
        "id": "u1kyA9ksy_JI"
      }
    },
    {
      "cell_type": "code",
      "source": [
        "## Enter answer here.\n",
        "\n",
        "nums = [0,-1.25,15.86,]\n",
        "method1_squares = []\n",
        "\n",
        "for i in nums:\n",
        "    method1_squares.append(i**2)\n",
        "\n",
        "print(method1_squares)\n",
        "\n",
        "## Now method 2\n",
        "nums = [0,3.33,17,-36,5.5,22,58.99,43,-21,10]\n",
        "method2_squares = [i**2 for i in nums]\n",
        "print(method2_squares)"
      ],
      "metadata": {
        "colab": {
          "base_uri": "https://localhost:8080/"
        },
        "id": "UFHMdDgEuUbD",
        "outputId": "06431128-4408-404e-ce5c-3c24426440ac"
      },
      "execution_count": 9,
      "outputs": [
        {
          "output_type": "stream",
          "name": "stdout",
          "text": [
            "[0, 1.5625, 251.53959999999998]\n",
            "[0, 11.0889, 289, 1296, 30.25, 484, 3479.8201000000004, 1849, 441, 100]\n"
          ]
        }
      ]
    },
    {
      "cell_type": "markdown",
      "source": [
        "### Q5. Write a program to print a year if it is a leap year."
      ],
      "metadata": {
        "id": "0ZBlFovqA7G9"
      }
    },
    {
      "cell_type": "markdown",
      "source": [],
      "metadata": {
        "id": "OK1ctUfqA6mP"
      }
    },
    {
      "cell_type": "code",
      "source": [
        "year = int(input())\n",
        "\n",
        "if year%4 == 0:\n",
        "    print(year, \"is a leap year\")\n",
        "else:\n",
        "    print(year, \"is not a leap year\")"
      ],
      "metadata": {
        "id": "QwfOIh36uUeM",
        "colab": {
          "base_uri": "https://localhost:8080/"
        },
        "outputId": "24ea456d-03a5-4a09-bc81-69ef3d325de2"
      },
      "execution_count": 10,
      "outputs": [
        {
          "output_type": "stream",
          "name": "stdout",
          "text": [
            "2021\n",
            "2021 is not a leap year\n"
          ]
        }
      ]
    },
    {
      "cell_type": "markdown",
      "source": [
        "### Q6. Use list comprensions to print all names in a list in upper case."
      ],
      "metadata": {
        "id": "_FRSvLlgArOJ"
      }
    },
    {
      "cell_type": "code",
      "source": [
        "names = [\"Lea\", \"Allison\", \"Meredith\"]\n",
        "uppercase_names = [name.upper() for name in names]\n",
        "print(uppercase_names)"
      ],
      "metadata": {
        "id": "CwPIZcFQuUhD",
        "outputId": "f1911631-1a5d-43bc-b217-4aa0a5634fff",
        "colab": {
          "base_uri": "https://localhost:8080/"
        }
      },
      "execution_count": 11,
      "outputs": [
        {
          "output_type": "stream",
          "name": "stdout",
          "text": [
            "['LEA', 'ALLISON', 'MEREDITH']\n"
          ]
        }
      ]
    },
    {
      "cell_type": "markdown",
      "source": [
        "### Q7. Question on NUMPY arrays:\n",
        "\n",
        "a. Create a numpy array called `original` with 100 random numbers. What is the largest number, smallest number, max, min, median, and standard deviation of your array? Print them.\n",
        "\n",
        "HINT: use `np.random.uniform()`. Check online for the correct syntax. `np.random.rand(100)` will give you 100 random numbers of uniform distribution with mean 0 and standard deviation of 1, while we want a mix of larger numbers/integers.\n",
        "\n",
        "b. Now create an array called `orig_sqrt` which contains the square roots of the numbers in the original array.\n",
        "\n",
        "### Q8.  Converting 1D arrays into 2D arrays.\n",
        "\n",
        "a. Convert your original array of 100 random numbers into a 2-dimensional array called `mat_array` with 20 rows and 5 columns. Print this array.\n",
        "\n",
        "b. What is the mean of every column in `mat_array`?\n",
        "\n",
        "c. What is the sum of every row? Create a list of 20 elements that contains the sum of every row in `mat_array`.\n",
        "\n",
        "d. Create the transpose of `mat_array` and call it `transpose_array`. What are the dimensions of this array now? Again, find the mean of each column and the sum of each row.\n",
        "\n",
        "### Q9. Array slicing:\n",
        "\n",
        "a. create a new array which contains the 3rd-10th rows and all columns of `mat_array`. Print.\n",
        "\n",
        "b. Print a new array which contains the the last 5 rows and the last 2 columns of `mat_array`. What is the dimension of this array?\n",
        "\n",
        "c. Print a new array which contains the first 3 rows and last 10 columns of `transpose_array`."
      ],
      "metadata": {
        "id": "ulp3oxOZHt5r"
      }
    },
    {
      "cell_type": "code",
      "source": [
        "# Write your answer here. Feel free to break your answer into different blocks of code rather than using just this one cell. Label your answer neatly.\n",
        "import numpy as np\n",
        "\n"
      ],
      "metadata": {
        "id": "M6EBbfr7Iaas"
      },
      "execution_count": 12,
      "outputs": []
    },
    {
      "cell_type": "code",
      "source": [
        "# Q7a\n",
        "original = np.random.uniform(10, 100, 100)\n",
        "print(original)\n",
        "largest = np.max(original)\n",
        "smallest = np.min(original)\n",
        "max_val = np.max(original)\n",
        "min_val = np.min(original)\n",
        "median_val = np.median(original)\n",
        "std_dev = np.std(original)\n",
        "print(\"Largest:\", largest)\n",
        "print(\"Smallest:\", smallest)\n",
        "print(\"Max:\", max_val)\n",
        "print(\"Min:\", min_val)\n",
        "print(\"Median:\", median_val)\n",
        "print(\"Standard Deviation:\", std_dev)"
      ],
      "metadata": {
        "id": "lJWRxuplJ1R-",
        "outputId": "e9018fde-b6f5-47a3-a9b1-daf752e2d216",
        "colab": {
          "base_uri": "https://localhost:8080/"
        }
      },
      "execution_count": 18,
      "outputs": [
        {
          "output_type": "stream",
          "name": "stdout",
          "text": [
            "[33.37262901 94.17447946 93.10054087 72.69017919 39.46504924 30.08998289\n",
            " 39.40016041 57.54780262 98.52382346 65.41844082 23.39410197 73.55224692\n",
            " 96.85849735 19.23449018 63.13511709 21.88724852 54.15833026 37.75469507\n",
            " 59.94601562 71.3838603  48.05682806 72.5258211  28.70633143 51.53969802\n",
            " 31.79724065 83.03533982 35.5227049  51.24074483 73.68158093 40.3331648\n",
            " 25.60864957 66.56543191 84.75559436 94.82792393 15.09852499 15.27945448\n",
            " 65.52101636 21.93254748 96.16513341 82.63195292 75.06088925 52.67940416\n",
            " 95.50073165 83.97244367 44.67440658 94.96686703 67.01423932 42.77582499\n",
            " 79.04320441 85.32156662 71.89956521 73.8933847  75.12525375 21.13599401\n",
            " 48.60177959 72.01476212 35.7093262  64.96109976 13.89179107 32.93680189\n",
            " 11.48824822 73.07150558 37.98951538 79.1040035  91.33895945 23.90212017\n",
            " 16.74359325 10.87923118 20.15616967 95.70433103 78.27382881 32.98972003\n",
            " 25.06434892 99.65412376 58.74120997 41.00334715 81.80633573 78.1789439\n",
            " 85.85672375 98.90594097 44.6819987  54.60153223 13.20121204 87.31296548\n",
            " 61.18569251 15.00702246 30.75828539 77.13235917 28.17306383 21.82570534\n",
            " 29.79476476 29.65985443 11.99216641 10.41087928 75.4780335  94.23663069\n",
            " 30.86116664 75.54338041 71.56389872 94.09602481]\n",
            "Largest: 99.65412375708517\n",
            "Smallest: 10.41087928122239\n",
            "Max: 99.65412375708517\n",
            "Min: 10.41087928122239\n",
            "Median: 58.144506296552564\n",
            "Standard Deviation: 27.460456617156698\n"
          ]
        }
      ]
    },
    {
      "cell_type": "code",
      "source": [
        "# Q7b\n",
        "orig_sqrt = np.sqrt(original)\n",
        "print(orig_sqrt)"
      ],
      "metadata": {
        "id": "e3dmqGuD9Coz",
        "outputId": "0b2bd8ee-68bc-46bf-a6d4-7c125490aec4",
        "colab": {
          "base_uri": "https://localhost:8080/"
        }
      },
      "execution_count": 21,
      "outputs": [
        {
          "output_type": "stream",
          "name": "stdout",
          "text": [
            "[5.77690479 9.70435363 9.64886215 8.52585358 6.2821214  5.4854337\n",
            " 6.27695471 7.5860268  9.92591676 8.08816672 4.83674498 8.57626066\n",
            " 9.84167147 4.38571433 7.94576095 4.67838097 7.35923435 6.14448493\n",
            " 7.74248123 8.44889699 6.93230323 8.51620931 5.35782898 7.17911541\n",
            " 5.63890421 9.1123729  5.96009269 7.15826409 8.58379758 6.35083969\n",
            " 5.06049894 8.15876412 9.20628016 9.73796303 3.88568205 3.90889428\n",
            " 8.09450532 4.68321978 9.80638228 9.09021193 8.66376877 7.25805788\n",
            " 9.77244758 9.16364795 6.68389157 9.74509451 8.18622253 6.540323\n",
            " 8.89062452 9.23696739 8.47936113 8.59612614 8.66748255 4.59738991\n",
            " 6.97149766 8.4861512  5.97572809 8.0598449  3.72716931 5.73905932\n",
            " 3.38943184 8.54818727 6.16356353 8.89404315 9.5571418  4.88897946\n",
            " 4.0918936  3.29836796 4.4895623  9.78285904 8.84724979 5.74366782\n",
            " 5.00643076 9.98269121 7.66428144 6.4033856  9.0446855  8.84188577\n",
            " 9.26589034 9.9451466  6.68445949 7.38928496 3.63334722 9.3441407\n",
            " 7.82212839 3.87388984 5.54601527 8.78250301 5.30783043 4.67179894\n",
            " 5.45845809 5.44608616 3.46297075 3.22658942 8.68780948 9.70755534\n",
            " 5.55528277 8.6915695  8.45954483 9.70031055]\n"
          ]
        }
      ]
    },
    {
      "cell_type": "code",
      "source": [
        "# Q8a\n",
        "mat_array = original.reshape(20, 5)\n",
        "print(\"\\nmat_array:\\n\", mat_array)"
      ],
      "metadata": {
        "id": "FDYDgwc1Lyy1",
        "outputId": "f3d8812c-95b6-4249-c3bc-94a87a89fd37",
        "colab": {
          "base_uri": "https://localhost:8080/"
        }
      },
      "execution_count": 22,
      "outputs": [
        {
          "output_type": "stream",
          "name": "stdout",
          "text": [
            "\n",
            "mat_array:\n",
            " [[33.37262901 94.17447946 93.10054087 72.69017919 39.46504924]\n",
            " [30.08998289 39.40016041 57.54780262 98.52382346 65.41844082]\n",
            " [23.39410197 73.55224692 96.85849735 19.23449018 63.13511709]\n",
            " [21.88724852 54.15833026 37.75469507 59.94601562 71.3838603 ]\n",
            " [48.05682806 72.5258211  28.70633143 51.53969802 31.79724065]\n",
            " [83.03533982 35.5227049  51.24074483 73.68158093 40.3331648 ]\n",
            " [25.60864957 66.56543191 84.75559436 94.82792393 15.09852499]\n",
            " [15.27945448 65.52101636 21.93254748 96.16513341 82.63195292]\n",
            " [75.06088925 52.67940416 95.50073165 83.97244367 44.67440658]\n",
            " [94.96686703 67.01423932 42.77582499 79.04320441 85.32156662]\n",
            " [71.89956521 73.8933847  75.12525375 21.13599401 48.60177959]\n",
            " [72.01476212 35.7093262  64.96109976 13.89179107 32.93680189]\n",
            " [11.48824822 73.07150558 37.98951538 79.1040035  91.33895945]\n",
            " [23.90212017 16.74359325 10.87923118 20.15616967 95.70433103]\n",
            " [78.27382881 32.98972003 25.06434892 99.65412376 58.74120997]\n",
            " [41.00334715 81.80633573 78.1789439  85.85672375 98.90594097]\n",
            " [44.6819987  54.60153223 13.20121204 87.31296548 61.18569251]\n",
            " [15.00702246 30.75828539 77.13235917 28.17306383 21.82570534]\n",
            " [29.79476476 29.65985443 11.99216641 10.41087928 75.4780335 ]\n",
            " [94.23663069 30.86116664 75.54338041 71.56389872 94.09602481]]\n"
          ]
        }
      ]
    },
    {
      "cell_type": "code",
      "source": [
        "# Q8b\n",
        "column_means = np.mean(mat_array, axis=0)\n",
        "print(\"\\nColumn Means:\", column_means)"
      ],
      "metadata": {
        "id": "cSmNKeck9XIi",
        "outputId": "95ff9ced-2d61-40ad-f072-e192ff51a092",
        "colab": {
          "base_uri": "https://localhost:8080/"
        }
      },
      "execution_count": 24,
      "outputs": [
        {
          "output_type": "stream",
          "name": "stdout",
          "text": [
            "\n",
            "Column Means: [46.65271394 54.06042695 54.01204108 62.34420529 60.90369015]\n"
          ]
        }
      ]
    },
    {
      "cell_type": "code",
      "source": [
        "# Q8c\n",
        "row_sums = np.sum(mat_array, axis=1)\n",
        "print(\"\\nRow Sums:\", row_sums)\n"
      ],
      "metadata": {
        "id": "UFWCFHdN9ijz",
        "outputId": "c1833e94-95c7-46ef-fce0-17b333a82ec0",
        "colab": {
          "base_uri": "https://localhost:8080/"
        }
      },
      "execution_count": 25,
      "outputs": [
        {
          "output_type": "stream",
          "name": "stdout",
          "text": [
            "\n",
            "Row Sums: [332.80287777 290.98021021 276.17445351 245.13014977 232.62591925\n",
            " 283.81353528 286.85612475 281.53010465 351.88787531 369.12170237\n",
            " 290.65597726 219.51378102 292.99223212 167.3854453  294.72323149\n",
            " 385.7512915  260.98340097 172.8964362  157.33569837 366.30110127]\n"
          ]
        }
      ]
    },
    {
      "cell_type": "code",
      "source": [
        "# Q8d\n",
        "transpose_array = mat_array.T\n",
        "print(\"\\nTranspose Array Shape:\", transpose_array.shape)\n",
        "\n",
        "transpose_column_means = np.mean(transpose_array, axis=0)\n",
        "transpose_row_sums = np.sum(transpose_array, axis=1)\n",
        "print(\"\\nTranspose Column Means:\", transpose_column_means)\n",
        "print(\"\\nTranspose Row Sums:\", transpose_row_sums)"
      ],
      "metadata": {
        "id": "RB5G1l2o9rvJ",
        "outputId": "74962544-74e2-4b28-f02a-9f2a12f4030b",
        "colab": {
          "base_uri": "https://localhost:8080/"
        }
      },
      "execution_count": 26,
      "outputs": [
        {
          "output_type": "stream",
          "name": "stdout",
          "text": [
            "\n",
            "Transpose Array Shape: (5, 20)\n",
            "\n",
            "Transpose Column Means: [66.56057555 58.19604204 55.2348907  49.02602995 46.52518385 56.76270706\n",
            " 57.37122495 56.30602093 70.37757506 73.82434047 58.13119545 43.9027562\n",
            " 58.59844642 33.47708906 58.9446463  77.1502583  52.19668019 34.57928724\n",
            " 31.46713967 73.26022025]\n",
            "\n",
            "Transpose Row Sums: [ 933.05427889 1081.20853896 1080.24082157 1246.88410589 1218.07380307]\n"
          ]
        }
      ]
    },
    {
      "cell_type": "markdown",
      "source": [],
      "metadata": {
        "id": "gH9qAvFG9Wsy"
      }
    },
    {
      "cell_type": "code",
      "source": [
        "# Q9a\n",
        "subset_3_to_10 = mat_array[2:10, :]\n",
        "print(\"\\nSubset (Rows 3-10):\\n\", subset_3_to_10)"
      ],
      "metadata": {
        "id": "vyV9N3jpLyqP",
        "outputId": "989a3417-2368-4ab8-dba3-4b8807f990de",
        "colab": {
          "base_uri": "https://localhost:8080/"
        }
      },
      "execution_count": 27,
      "outputs": [
        {
          "output_type": "stream",
          "name": "stdout",
          "text": [
            "\n",
            "Subset (Rows 3-10):\n",
            " [[23.39410197 73.55224692 96.85849735 19.23449018 63.13511709]\n",
            " [21.88724852 54.15833026 37.75469507 59.94601562 71.3838603 ]\n",
            " [48.05682806 72.5258211  28.70633143 51.53969802 31.79724065]\n",
            " [83.03533982 35.5227049  51.24074483 73.68158093 40.3331648 ]\n",
            " [25.60864957 66.56543191 84.75559436 94.82792393 15.09852499]\n",
            " [15.27945448 65.52101636 21.93254748 96.16513341 82.63195292]\n",
            " [75.06088925 52.67940416 95.50073165 83.97244367 44.67440658]\n",
            " [94.96686703 67.01423932 42.77582499 79.04320441 85.32156662]]\n"
          ]
        }
      ]
    },
    {
      "cell_type": "code",
      "source": [
        "# Q9b\n",
        "subset_last_5_rows_2_cols = mat_array[-5:, -2:]\n",
        "print(\"\\nSubset (Last 5 Rows, Last 2 Columns):\\n\", subset_last_5_rows_2_cols)\n",
        "print(\"Shape:\", subset_last_5_rows_2_cols.shape)\n"
      ],
      "metadata": {
        "id": "at-4INjLLyei",
        "outputId": "6a47aeb1-a9f7-4209-956f-f10d78600480",
        "colab": {
          "base_uri": "https://localhost:8080/"
        }
      },
      "execution_count": 28,
      "outputs": [
        {
          "output_type": "stream",
          "name": "stdout",
          "text": [
            "\n",
            "Subset (Last 5 Rows, Last 2 Columns):\n",
            " [[85.85672375 98.90594097]\n",
            " [87.31296548 61.18569251]\n",
            " [28.17306383 21.82570534]\n",
            " [10.41087928 75.4780335 ]\n",
            " [71.56389872 94.09602481]]\n",
            "Shape: (5, 2)\n"
          ]
        }
      ]
    },
    {
      "cell_type": "code",
      "source": [
        "# Q9c\n",
        "subset_first_3_rows_last_10_cols = transpose_array[:3, -10:]\n",
        "print(\"\\nSubset (First 3 Rows, Last 10 Columns of Transpose):\\n\", subset_first_3_rows_last_10_cols)"
      ],
      "metadata": {
        "id": "efq9je67-Ae8",
        "outputId": "5ddfcb1e-f9fa-48fe-aaa7-cf58069843c6",
        "colab": {
          "base_uri": "https://localhost:8080/"
        }
      },
      "execution_count": 29,
      "outputs": [
        {
          "output_type": "stream",
          "name": "stdout",
          "text": [
            "\n",
            "Subset (First 3 Rows, Last 10 Columns of Transpose):\n",
            " [[71.89956521 72.01476212 11.48824822 23.90212017 78.27382881 41.00334715\n",
            "  44.6819987  15.00702246 29.79476476 94.23663069]\n",
            " [73.8933847  35.7093262  73.07150558 16.74359325 32.98972003 81.80633573\n",
            "  54.60153223 30.75828539 29.65985443 30.86116664]\n",
            " [75.12525375 64.96109976 37.98951538 10.87923118 25.06434892 78.1789439\n",
            "  13.20121204 77.13235917 11.99216641 75.54338041]]\n"
          ]
        }
      ]
    },
    {
      "cell_type": "markdown",
      "source": [
        "### Q10. Assume you are inviting 15 friends to your party. You guest list has the following dietary preference.\n",
        "\n",
        "`diet = ['vegetarian', 'pescetarian', 'vegetarian', 'omnivore', 'pescetarian', 'keto', 'keto', 'vegan', 'omnivore', 'omnivore', 'vegan', 'omnivore', 'keto, 'vegetarian', 'vegan']`\n",
        "\n",
        "Their ages are as follows:\n",
        "\n",
        "`age = [21, 20, 19, 25, 27, 18, 23, 25, 19, 22, 20, 20, 23, 21, 24]`\n",
        "\n",
        "Create a list called `menu` which will contain 'veg. fried rice with whiskey' for vegans and vegetarians aged 21 and above,  'veg. fried rice with mocktail' for vegans and vegetarians aged below 21. Follow the same logic and assign fish and white wine to pescetarians of legal age (and fish with mocktail to those below 21). Keto and omnivore guests above 21 will have 'steak and red wine'. Complete the series with the appropriate drink for underage guests."
      ],
      "metadata": {
        "id": "cIhCARNRLzKy"
      }
    },
    {
      "cell_type": "code",
      "source": [
        "# Write your answer here.\n",
        "import numpy as np\n",
        "diet = ['vegetarian', 'pescetarian', 'vegetarian', 'omnivore', 'pescetarian', 'keto', 'keto',\n",
        "        'vegan', 'omnivore', 'omnivore', 'vegan', 'omnivore', 'keto', 'vegetarian', 'vegan']\n",
        "age = [21, 20, 19, 25, 27, 18, 23, 25, 19, 22, 20, 20, 23, 21, 24]\n",
        "menu = []\n",
        "for i in range(len(diet)):\n",
        "    if diet[i] in ['vegetarian', 'vegan']:\n",
        "        meal = 'veg. fried rice with whiskey' if age[i] >= 21 else 'veg. fried rice with mocktail'\n",
        "    elif diet[i] == 'pescetarian':\n",
        "        meal = 'fish and white wine' if age[i] >= 21 else 'fish with mocktail'\n",
        "    elif diet[i] in ['keto', 'omnivore']:\n",
        "        meal = 'steak and red wine' if age[i] >= 21 else 'steak with mocktail'\n",
        "    menu.append(meal)\n",
        "print(menu)\n"
      ],
      "metadata": {
        "id": "P7Xuiz6JOR5_",
        "outputId": "b1247ad5-6e71-44fe-dca3-07174159c990",
        "colab": {
          "base_uri": "https://localhost:8080/"
        }
      },
      "execution_count": 32,
      "outputs": [
        {
          "output_type": "stream",
          "name": "stdout",
          "text": [
            "['veg. fried rice with whiskey', 'fish with mocktail', 'veg. fried rice with mocktail', 'steak and red wine', 'fish and white wine', 'steak with mocktail', 'steak and red wine', 'veg. fried rice with whiskey', 'steak with mocktail', 'steak and red wine', 'veg. fried rice with mocktail', 'steak with mocktail', 'steak and red wine', 'veg. fried rice with whiskey', 'veg. fried rice with whiskey']\n"
          ]
        }
      ]
    }
  ]
}