{
  "nbformat": 4,
  "nbformat_minor": 0,
  "metadata": {
    "colab": {
      "provenance": [],
      "name": "Fama_French.ipynb"
    },
    "kernelspec": {
      "name": "python3",
      "display_name": "Python 3"
    },
    "language_info": {
      "name": "python"
    }
  },
  "cells": [
    {
      "cell_type": "code",
      "source": [
        "# !pip install pandas-datareader"
      ],
      "metadata": {
        "id": "nLkQ57EhAUvn"
      },
      "execution_count": null,
      "outputs": []
    },
    {
      "cell_type": "code",
      "execution_count": null,
      "metadata": {
        "id": "axzgQ88K_tLm"
      },
      "outputs": [],
      "source": [
        "import pandas as pd\n",
        "import numpy as np\n",
        "import matplotlib.pyplot as plt\n",
        "import seaborn as sns\n",
        "%matplotlib inline\n",
        "sns.set()\n",
        "plt.style.use('fivethirtyeight')\n",
        "import datetime\n",
        "\n",
        "from pandas_datareader import data as pdr\n",
        "import yfinance as yf"
      ]
    },
    {
      "cell_type": "code",
      "source": [
        "import yfinance as yf\n",
        "\n",
        "end_date = datetime.date.today().strftime('%Y-%m-%d')\n",
        "apple = yf.Ticker(\"AAPL\")\n",
        "AAPL = apple.history(start = \"2020-01-01\", end= end_date)\n",
        "AAPL.head()\n",
        "print(df.head())"
      ],
      "metadata": {
        "colab": {
          "base_uri": "https://localhost:8080/"
        },
        "id": "LE59-gNCVFGu",
        "outputId": "19662483-bed7-494f-e690-970d61f08af7"
      },
      "execution_count": null,
      "outputs": [
        {
          "output_type": "stream",
          "name": "stdout",
          "text": [
            "                               Market       AAPL        AAL        NFLX  \\\n",
            "Date                                                                      \n",
            "2020-01-02 00:00:00-05:00  300.291595  72.716057  28.982893  329.809998   \n",
            "2020-01-03 00:00:00-05:00  298.017761  72.009132  27.548195  325.899994   \n",
            "2020-01-06 00:00:00-05:00  299.154633  72.582916  27.219410  335.829987   \n",
            "2020-01-07 00:00:00-05:00  298.313477  72.241554  27.119778  330.750000   \n",
            "2020-01-08 00:00:00-05:00  299.903320  73.403633  27.737495  339.260010   \n",
            "\n",
            "                                 META         ZM      GOOGL        MSFT  \\\n",
            "Date                                                                      \n",
            "2020-01-02 00:00:00-05:00  208.795914  68.720001  68.108376  153.323242   \n",
            "2020-01-03 00:00:00-05:00  207.691147  67.279999  67.752075  151.414093   \n",
            "2020-01-06 00:00:00-05:00  211.602722  70.320000  69.557945  151.805466   \n",
            "2020-01-07 00:00:00-05:00  212.060547  71.900002  69.423592  150.421371   \n",
            "2020-01-08 00:00:00-05:00  214.210434  72.550003  69.917725  152.817352   \n",
            "\n",
            "                                TSLA       AMZN      NVDA  \n",
            "Date                                                       \n",
            "2020-01-02 00:00:00-05:00  28.684000  94.900497  5.972160  \n",
            "2020-01-03 00:00:00-05:00  29.534000  93.748497  5.876572  \n",
            "2020-01-06 00:00:00-05:00  30.102667  95.143997  5.901215  \n",
            "2020-01-07 00:00:00-05:00  31.270666  95.343002  5.972659  \n",
            "2020-01-08 00:00:00-05:00  32.809334  94.598503  5.983861  \n"
          ]
        }
      ]
    },
    {
      "cell_type": "code",
      "source": [
        "import statsmodels.api as sm\n",
        "import pandas as pd\n",
        "import yfinance as yf\n",
        "import numpy as np\n",
        "\n",
        "tickers = [\"SPY\", \"AAL\", \"ZM\", \"NFLX\", \"META\", \"AAPL\", \"GOOG\", \"MSFT\", \"AMZN\", \"TSLA\", \"NVDA\"]\n",
        "\n",
        "\n",
        "end_date = pd.Timestamp.today().strftime('%Y-%m-%d')\n",
        "data = yf.download(tickers, start=\"2020-01-01\", end=end_date)['Close']\n",
        "\n",
        "\n",
        "returns = np.log(data / data.shift(1))\n",
        "returns.iloc[0] = 0\n",
        "\n",
        "returns = returns.rename(columns={'SPY': 'Market'})\n",
        "\n",
        "def fama_french(data, market_ticker='Market'):\n",
        "\n",
        "\n",
        "\n",
        "    data = data.dropna()\n",
        "\n",
        "    X = data[[market_ticker, 'SMB', 'HML']]\n",
        "    X = sm.add_constant(X)\n",
        "\n",
        "    results = {}\n",
        "    for ticker in data.columns:\n",
        "        if ticker not in [market_ticker, 'SMB', 'HML', 'RF']:\n",
        "            y = data[ticker]\n",
        "            model = sm.OLS(y, X)\n",
        "            results[ticker] = model.fit()\n",
        "\n",
        "    return results\n",
        "\n",
        "returns['SMB'] = returns['Market'].rolling(window=60).std()\n",
        "returns['HML'] = returns['Market'].rolling(window=120).mean()\n",
        "returns['RF'] = 0.03\n",
        "\n",
        "\n",
        "fama_french_results = fama_french(returns)\n",
        "\n",
        "\n",
        "print(fama_french_results['AAPL'].summary())\n",
        "\n",
        "print(fama_french_results['AAPL'].params)\n"
      ],
      "metadata": {
        "colab": {
          "base_uri": "https://localhost:8080/"
        },
        "id": "GnIttJgySbKE",
        "outputId": "34f90639-8e61-4381-8d88-d70968d1f492"
      },
      "execution_count": null,
      "outputs": [
        {
          "output_type": "stream",
          "name": "stderr",
          "text": [
            "[*********************100%***********************]  11 of 11 completed\n"
          ]
        },
        {
          "output_type": "stream",
          "name": "stdout",
          "text": [
            "                            OLS Regression Results                            \n",
            "==============================================================================\n",
            "Dep. Variable:                   AAPL   R-squared:                       0.550\n",
            "Model:                            OLS   Adj. R-squared:                  0.549\n",
            "Method:                 Least Squares   F-statistic:                     489.6\n",
            "Date:                Tue, 08 Apr 2025   Prob (F-statistic):          1.05e-207\n",
            "Time:                        21:37:56   Log-Likelihood:                 3593.7\n",
            "No. Observations:                1204   AIC:                            -7179.\n",
            "Df Residuals:                    1200   BIC:                            -7159.\n",
            "Df Model:                           3                                         \n",
            "Covariance Type:            nonrobust                                         \n",
            "==============================================================================\n",
            "                 coef    std err          t      P>|t|      [0.025      0.975]\n",
            "------------------------------------------------------------------------------\n",
            "const          0.0004      0.002      0.214      0.831      -0.003       0.004\n",
            "Market         1.2725      0.033     38.066      0.000       1.207       1.338\n",
            "SMB           -0.0169      0.142     -0.119      0.905      -0.295       0.261\n",
            "HML           -0.2830      0.579     -0.489      0.625      -1.419       0.853\n",
            "==============================================================================\n",
            "Omnibus:                      167.561   Durbin-Watson:                   1.865\n",
            "Prob(Omnibus):                  0.000   Jarque-Bera (JB):             1220.367\n",
            "Skew:                           0.403   Prob(JB):                    1.00e-265\n",
            "Kurtosis:                       7.866   Cond. No.                     1.66e+03\n",
            "==============================================================================\n",
            "\n",
            "Notes:\n",
            "[1] Standard Errors assume that the covariance matrix of the errors is correctly specified.\n",
            "[2] The condition number is large, 1.66e+03. This might indicate that there are\n",
            "strong multicollinearity or other numerical problems.\n",
            "const     0.000370\n",
            "Market    1.272479\n",
            "SMB      -0.016851\n",
            "HML      -0.282957\n",
            "dtype: float64\n"
          ]
        }
      ]
    },
    {
      "cell_type": "code",
      "source": [
        "returns = np.log(data / data.shift(1))\n",
        "returns.iloc[0] = 0\n",
        "\n",
        "returns = returns.rename(columns={'SPY': 'Market'})\n",
        "\n",
        "def fama_french(data, market_ticker='Market'):\n",
        "\n",
        "\n",
        "\n",
        "    data = data.dropna()\n",
        "\n",
        "    X = data[[market_ticker, 'SMB', 'HML']]\n",
        "    X = sm.add_constant(X)\n",
        "\n",
        "    results = {}\n",
        "    for ticker in data.columns:\n",
        "        if ticker not in [market_ticker, 'SMB', 'HML', 'RF']:\n",
        "            y = data[ticker]\n",
        "            model = sm.OLS(y, X)\n",
        "            results[ticker] = model.fit()\n",
        "\n",
        "    return results\n",
        "\n",
        "returns['SMB'] = returns['Market'].rolling(window=60).std()\n",
        "returns['HML'] = returns['Market'].rolling(window=120).mean()\n",
        "returns['RF'] = 0.03\n",
        "\n",
        "fama_french_results = fama_french(returns)\n",
        "\n",
        "\n",
        "print(fama_french_results['AAL'].summary())\n",
        "\n",
        "print(fama_french_results['AAL'].params)"
      ],
      "metadata": {
        "id": "mWYRwuzdx-H7",
        "colab": {
          "base_uri": "https://localhost:8080/"
        },
        "outputId": "f98676d2-6add-4ea9-be65-4974a06f34cb"
      },
      "execution_count": null,
      "outputs": [
        {
          "output_type": "stream",
          "name": "stdout",
          "text": [
            "                            OLS Regression Results                            \n",
            "==============================================================================\n",
            "Dep. Variable:                    AAL   R-squared:                       0.228\n",
            "Model:                            OLS   Adj. R-squared:                  0.226\n",
            "Method:                 Least Squares   F-statistic:                     118.3\n",
            "Date:                Tue, 08 Apr 2025   Prob (F-statistic):           4.06e-67\n",
            "Time:                        21:40:30   Log-Likelihood:                 2639.2\n",
            "No. Observations:                1204   AIC:                            -5270.\n",
            "Df Residuals:                    1200   BIC:                            -5250.\n",
            "Df Model:                           3                                         \n",
            "Covariance Type:            nonrobust                                         \n",
            "==============================================================================\n",
            "                 coef    std err          t      P>|t|      [0.025      0.975]\n",
            "------------------------------------------------------------------------------\n",
            "const         -0.0027      0.004     -0.717      0.474      -0.010       0.005\n",
            "Market         1.3765      0.074     18.637      0.000       1.232       1.521\n",
            "SMB            0.1475      0.313      0.471      0.638      -0.467       0.762\n",
            "HML            0.4217      1.279      0.330      0.742      -2.088       2.932\n",
            "==============================================================================\n",
            "Omnibus:                      140.448   Durbin-Watson:                   2.012\n",
            "Prob(Omnibus):                  0.000   Jarque-Bera (JB):              587.073\n",
            "Skew:                           0.482   Prob(JB):                    3.30e-128\n",
            "Kurtosis:                       6.282   Cond. No.                     1.66e+03\n",
            "==============================================================================\n",
            "\n",
            "Notes:\n",
            "[1] Standard Errors assume that the covariance matrix of the errors is correctly specified.\n",
            "[2] The condition number is large, 1.66e+03. This might indicate that there are\n",
            "strong multicollinearity or other numerical problems.\n",
            "const    -0.002744\n",
            "Market    1.376505\n",
            "SMB       0.147468\n",
            "HML       0.421650\n",
            "dtype: float64\n"
          ]
        }
      ]
    },
    {
      "cell_type": "code",
      "source": [
        "fama_french_results = fama_french(returns)\n",
        "\n",
        "\n",
        "print(fama_french_results['ZM'].summary())\n",
        "\n",
        "print(fama_french_results['ZM'].params)"
      ],
      "metadata": {
        "colab": {
          "base_uri": "https://localhost:8080/"
        },
        "id": "v9luFDFWWU9s",
        "outputId": "27f8e525-29fa-43dd-a7d2-bcb52b238bf8"
      },
      "execution_count": null,
      "outputs": [
        {
          "output_type": "stream",
          "name": "stdout",
          "text": [
            "                            OLS Regression Results                            \n",
            "==============================================================================\n",
            "Dep. Variable:                     ZM   R-squared:                       0.185\n",
            "Model:                            OLS   Adj. R-squared:                  0.183\n",
            "Method:                 Least Squares   F-statistic:                     90.74\n",
            "Date:                Tue, 08 Apr 2025   Prob (F-statistic):           6.37e-53\n",
            "Time:                        21:41:08   Log-Likelihood:                 2521.3\n",
            "No. Observations:                1204   AIC:                            -5035.\n",
            "Df Residuals:                    1200   BIC:                            -5014.\n",
            "Df Model:                           3                                         \n",
            "Covariance Type:            nonrobust                                         \n",
            "==============================================================================\n",
            "                 coef    std err          t      P>|t|      [0.025      0.975]\n",
            "------------------------------------------------------------------------------\n",
            "const         -0.0084      0.004     -1.987      0.047      -0.017      -0.000\n",
            "Market         1.3097      0.081     16.077      0.000       1.150       1.470\n",
            "SMB            0.5250      0.345      1.521      0.129      -0.152       1.202\n",
            "HML            2.2343      1.411      1.584      0.114      -0.534       5.002\n",
            "==============================================================================\n",
            "Omnibus:                      309.987   Durbin-Watson:                   1.995\n",
            "Prob(Omnibus):                  0.000   Jarque-Bera (JB):            15364.348\n",
            "Skew:                           0.294   Prob(JB):                         0.00\n",
            "Kurtosis:                      20.491   Cond. No.                     1.66e+03\n",
            "==============================================================================\n",
            "\n",
            "Notes:\n",
            "[1] Standard Errors assume that the covariance matrix of the errors is correctly specified.\n",
            "[2] The condition number is large, 1.66e+03. This might indicate that there are\n",
            "strong multicollinearity or other numerical problems.\n",
            "const    -0.008390\n",
            "Market    1.309710\n",
            "SMB       0.524984\n",
            "HML       2.234255\n",
            "dtype: float64\n"
          ]
        }
      ]
    },
    {
      "cell_type": "code",
      "source": [
        "fama_french_results = fama_french(returns)\n",
        "\n",
        "\n",
        "print(fama_french_results['NFLX'].summary())\n",
        "\n",
        "print(fama_french_results['NFLX'].params)"
      ],
      "metadata": {
        "colab": {
          "base_uri": "https://localhost:8080/"
        },
        "id": "qgO3gPwrWaz2",
        "outputId": "2d05f061-98db-4c69-8102-f8365547cb73"
      },
      "execution_count": null,
      "outputs": [
        {
          "output_type": "stream",
          "name": "stdout",
          "text": [
            "                            OLS Regression Results                            \n",
            "==============================================================================\n",
            "Dep. Variable:                   NFLX   R-squared:                       0.250\n",
            "Model:                            OLS   Adj. R-squared:                  0.248\n",
            "Method:                 Least Squares   F-statistic:                     133.1\n",
            "Date:                Tue, 08 Apr 2025   Prob (F-statistic):           2.00e-74\n",
            "Time:                        21:41:39   Log-Likelihood:                 2719.2\n",
            "No. Observations:                1204   AIC:                            -5430.\n",
            "Df Residuals:                    1200   BIC:                            -5410.\n",
            "Df Model:                           3                                         \n",
            "Covariance Type:            nonrobust                                         \n",
            "==============================================================================\n",
            "                 coef    std err          t      P>|t|      [0.025      0.975]\n",
            "------------------------------------------------------------------------------\n",
            "const          0.0030      0.004      0.824      0.410      -0.004       0.010\n",
            "Market         1.3776      0.069     19.933      0.000       1.242       1.513\n",
            "SMB           -0.2152      0.293     -0.735      0.463      -0.790       0.360\n",
            "HML           -1.4349      1.197     -1.199      0.231      -3.783       0.914\n",
            "==============================================================================\n",
            "Omnibus:                     1204.729   Durbin-Watson:                   2.021\n",
            "Prob(Omnibus):                  0.000   Jarque-Bera (JB):           305670.311\n",
            "Skew:                          -4.087   Prob(JB):                         0.00\n",
            "Kurtosis:                      80.629   Cond. No.                     1.66e+03\n",
            "==============================================================================\n",
            "\n",
            "Notes:\n",
            "[1] Standard Errors assume that the covariance matrix of the errors is correctly specified.\n",
            "[2] The condition number is large, 1.66e+03. This might indicate that there are\n",
            "strong multicollinearity or other numerical problems.\n",
            "const     0.002952\n",
            "Market    1.377582\n",
            "SMB      -0.215163\n",
            "HML      -1.434920\n",
            "dtype: float64\n"
          ]
        }
      ]
    },
    {
      "cell_type": "code",
      "source": [
        "fama_french_results = fama_french(returns)\n",
        "\n",
        "\n",
        "print(fama_french_results['META'].summary())\n",
        "\n",
        "print(fama_french_results['META'].params)"
      ],
      "metadata": {
        "colab": {
          "base_uri": "https://localhost:8080/"
        },
        "id": "Grvb0wkIWikH",
        "outputId": "66a5d3cb-9851-48ab-a47d-ed91f546db8c"
      },
      "execution_count": null,
      "outputs": [
        {
          "output_type": "stream",
          "name": "stdout",
          "text": [
            "                            OLS Regression Results                            \n",
            "==============================================================================\n",
            "Dep. Variable:                   META   R-squared:                       0.373\n",
            "Model:                            OLS   Adj. R-squared:                  0.371\n",
            "Method:                 Least Squares   F-statistic:                     238.0\n",
            "Date:                Tue, 08 Apr 2025   Prob (F-statistic):          3.91e-121\n",
            "Time:                        21:41:56   Log-Likelihood:                 2880.6\n",
            "No. Observations:                1204   AIC:                            -5753.\n",
            "Df Residuals:                    1200   BIC:                            -5733.\n",
            "Df Model:                           3                                         \n",
            "Covariance Type:            nonrobust                                         \n",
            "==============================================================================\n",
            "                 coef    std err          t      P>|t|      [0.025      0.975]\n",
            "------------------------------------------------------------------------------\n",
            "const          0.0016      0.003      0.506      0.613      -0.005       0.008\n",
            "Market         1.5999      0.060     26.470      0.000       1.481       1.719\n",
            "SMB           -0.1646      0.256     -0.642      0.521      -0.667       0.338\n",
            "HML           -0.0212      1.047     -0.020      0.984      -2.075       2.033\n",
            "==============================================================================\n",
            "Omnibus:                      785.231   Durbin-Watson:                   1.937\n",
            "Prob(Omnibus):                  0.000   Jarque-Bera (JB):           100278.373\n",
            "Skew:                          -2.067   Prob(JB):                         0.00\n",
            "Kurtosis:                      47.518   Cond. No.                     1.66e+03\n",
            "==============================================================================\n",
            "\n",
            "Notes:\n",
            "[1] Standard Errors assume that the covariance matrix of the errors is correctly specified.\n",
            "[2] The condition number is large, 1.66e+03. This might indicate that there are\n",
            "strong multicollinearity or other numerical problems.\n",
            "const     0.001585\n",
            "Market    1.599930\n",
            "SMB      -0.164576\n",
            "HML      -0.021182\n",
            "dtype: float64\n"
          ]
        }
      ]
    },
    {
      "cell_type": "code",
      "source": [
        "fama_french_results = fama_french(returns)\n",
        "\n",
        "\n",
        "print(fama_french_results['GOOG'].summary())\n",
        "\n",
        "print(fama_french_results['GOOG'].params)"
      ],
      "metadata": {
        "colab": {
          "base_uri": "https://localhost:8080/"
        },
        "id": "7QBz5UKbWnvk",
        "outputId": "113da22b-eb4e-42fa-ceaf-df714ffe9e53"
      },
      "execution_count": null,
      "outputs": [
        {
          "output_type": "stream",
          "name": "stdout",
          "text": [
            "                            OLS Regression Results                            \n",
            "==============================================================================\n",
            "Dep. Variable:                   GOOG   R-squared:                       0.508\n",
            "Model:                            OLS   Adj. R-squared:                  0.506\n",
            "Method:                 Least Squares   F-statistic:                     412.4\n",
            "Date:                Tue, 08 Apr 2025   Prob (F-statistic):          4.69e-184\n",
            "Time:                        21:43:16   Log-Likelihood:                 3468.0\n",
            "No. Observations:                1204   AIC:                            -6928.\n",
            "Df Residuals:                    1200   BIC:                            -6908.\n",
            "Df Model:                           3                                         \n",
            "Covariance Type:            nonrobust                                         \n",
            "==============================================================================\n",
            "                 coef    std err          t      P>|t|      [0.025      0.975]\n",
            "------------------------------------------------------------------------------\n",
            "const          0.0013      0.002      0.673      0.501      -0.002       0.005\n",
            "Market         1.2936      0.037     34.862      0.000       1.221       1.366\n",
            "SMB           -0.1235      0.157     -0.785      0.432      -0.432       0.185\n",
            "HML           -0.0586      0.643     -0.091      0.927      -1.320       1.202\n",
            "==============================================================================\n",
            "Omnibus:                      181.808   Durbin-Watson:                   1.912\n",
            "Prob(Omnibus):                  0.000   Jarque-Bera (JB):             2428.593\n",
            "Skew:                          -0.152   Prob(JB):                         0.00\n",
            "Kurtosis:                       9.951   Cond. No.                     1.66e+03\n",
            "==============================================================================\n",
            "\n",
            "Notes:\n",
            "[1] Standard Errors assume that the covariance matrix of the errors is correctly specified.\n",
            "[2] The condition number is large, 1.66e+03. This might indicate that there are\n",
            "strong multicollinearity or other numerical problems.\n",
            "const     0.001294\n",
            "Market    1.293645\n",
            "SMB      -0.123526\n",
            "HML      -0.058593\n",
            "dtype: float64\n"
          ]
        }
      ]
    },
    {
      "cell_type": "code",
      "source": [
        "fama_french_results = fama_french(returns)\n",
        "\n",
        "\n",
        "print(fama_french_results['AMZN'].summary())\n",
        "\n",
        "print(fama_french_results['AMZN'].params)"
      ],
      "metadata": {
        "colab": {
          "base_uri": "https://localhost:8080/"
        },
        "id": "R_97k1t4W8md",
        "outputId": "7b274ed9-1732-4abf-bb8e-c085ba61c592"
      },
      "execution_count": null,
      "outputs": [
        {
          "output_type": "stream",
          "name": "stdout",
          "text": [
            "                            OLS Regression Results                            \n",
            "==============================================================================\n",
            "Dep. Variable:                   AMZN   R-squared:                       0.500\n",
            "Model:                            OLS   Adj. R-squared:                  0.499\n",
            "Method:                 Least Squares   F-statistic:                     400.8\n",
            "Date:                Tue, 08 Apr 2025   Prob (F-statistic):          2.62e-180\n",
            "Time:                        21:45:15   Log-Likelihood:                 3289.1\n",
            "No. Observations:                1204   AIC:                            -6570.\n",
            "Df Residuals:                    1200   BIC:                            -6550.\n",
            "Df Model:                           3                                         \n",
            "Covariance Type:            nonrobust                                         \n",
            "==============================================================================\n",
            "                 coef    std err          t      P>|t|      [0.025      0.975]\n",
            "------------------------------------------------------------------------------\n",
            "const          0.0023      0.002      1.020      0.308      -0.002       0.007\n",
            "Market         1.4855      0.043     34.504      0.000       1.401       1.570\n",
            "SMB           -0.2170      0.182     -1.189      0.235      -0.575       0.141\n",
            "HML           -0.8823      0.746     -1.183      0.237      -2.345       0.581\n",
            "==============================================================================\n",
            "Omnibus:                      208.429   Durbin-Watson:                   1.983\n",
            "Prob(Omnibus):                  0.000   Jarque-Bera (JB):             3297.152\n",
            "Skew:                           0.257   Prob(JB):                         0.00\n",
            "Kurtosis:                      11.091   Cond. No.                     1.66e+03\n",
            "==============================================================================\n",
            "\n",
            "Notes:\n",
            "[1] Standard Errors assume that the covariance matrix of the errors is correctly specified.\n",
            "[2] The condition number is large, 1.66e+03. This might indicate that there are\n",
            "strong multicollinearity or other numerical problems.\n",
            "const     0.002275\n",
            "Market    1.485515\n",
            "SMB      -0.216967\n",
            "HML      -0.882269\n",
            "dtype: float64\n"
          ]
        }
      ]
    },
    {
      "cell_type": "code",
      "source": [
        "fama_french_results = fama_french(returns)\n",
        "\n",
        "\n",
        "print(fama_french_results['MSFT'].summary())\n",
        "\n",
        "print(fama_french_results['MSFT'].params)"
      ],
      "metadata": {
        "colab": {
          "base_uri": "https://localhost:8080/"
        },
        "id": "9RHbOPpXXAF0",
        "outputId": "5fb4e4bd-1d41-4b9a-8cb6-0281dfafda11"
      },
      "execution_count": null,
      "outputs": [
        {
          "output_type": "stream",
          "name": "stdout",
          "text": [
            "                            OLS Regression Results                            \n",
            "==============================================================================\n",
            "Dep. Variable:                   MSFT   R-squared:                       0.589\n",
            "Model:                            OLS   Adj. R-squared:                  0.588\n",
            "Method:                 Least Squares   F-statistic:                     574.0\n",
            "Date:                Tue, 08 Apr 2025   Prob (F-statistic):          2.66e-231\n",
            "Time:                        21:45:18   Log-Likelihood:                 3751.4\n",
            "No. Observations:                1204   AIC:                            -7495.\n",
            "Df Residuals:                    1200   BIC:                            -7474.\n",
            "Df Model:                           3                                         \n",
            "Covariance Type:            nonrobust                                         \n",
            "==============================================================================\n",
            "                 coef    std err          t      P>|t|      [0.025      0.975]\n",
            "------------------------------------------------------------------------------\n",
            "const          0.0029      0.002      1.918      0.055   -6.73e-05       0.006\n",
            "Market         1.2130      0.029     41.364      0.000       1.156       1.271\n",
            "SMB           -0.2237      0.124     -1.800      0.072      -0.468       0.020\n",
            "HML           -1.1133      0.508     -2.192      0.029      -2.110      -0.117\n",
            "==============================================================================\n",
            "Omnibus:                      172.681   Durbin-Watson:                   2.029\n",
            "Prob(Omnibus):                  0.000   Jarque-Bera (JB):             2233.654\n",
            "Skew:                          -0.041   Prob(JB):                         0.00\n",
            "Kurtosis:                       9.672   Cond. No.                     1.66e+03\n",
            "==============================================================================\n",
            "\n",
            "Notes:\n",
            "[1] Standard Errors assume that the covariance matrix of the errors is correctly specified.\n",
            "[2] The condition number is large, 1.66e+03. This might indicate that there are\n",
            "strong multicollinearity or other numerical problems.\n",
            "const     0.002915\n",
            "Market    1.213038\n",
            "SMB      -0.223677\n",
            "HML      -1.113283\n",
            "dtype: float64\n"
          ]
        }
      ]
    },
    {
      "cell_type": "code",
      "source": [
        "fama_french_results = fama_french(returns)\n",
        "\n",
        "\n",
        "print(fama_french_results['TSLA'].summary())\n",
        "\n",
        "print(fama_french_results['TSLA'].params)"
      ],
      "metadata": {
        "colab": {
          "base_uri": "https://localhost:8080/"
        },
        "id": "4FuAqfCWXIZc",
        "outputId": "3ed43269-cbb7-4b2f-e5dd-9930443cce60"
      },
      "execution_count": null,
      "outputs": [
        {
          "output_type": "stream",
          "name": "stdout",
          "text": [
            "                            OLS Regression Results                            \n",
            "==============================================================================\n",
            "Dep. Variable:                   TSLA   R-squared:                       0.293\n",
            "Model:                            OLS   Adj. R-squared:                  0.292\n",
            "Method:                 Least Squares   F-statistic:                     166.0\n",
            "Date:                Tue, 08 Apr 2025   Prob (F-statistic):           5.16e-90\n",
            "Time:                        21:45:20   Log-Likelihood:                 2380.1\n",
            "No. Observations:                1204   AIC:                            -4752.\n",
            "Df Residuals:                    1200   BIC:                            -4732.\n",
            "Df Model:                           3                                         \n",
            "Covariance Type:            nonrobust                                         \n",
            "==============================================================================\n",
            "                 coef    std err          t      P>|t|      [0.025      0.975]\n",
            "------------------------------------------------------------------------------\n",
            "const         -0.0034      0.005     -0.724      0.469      -0.013       0.006\n",
            "Market         2.0172      0.092     22.022      0.000       1.837       2.197\n",
            "SMB            0.2780      0.388      0.716      0.474      -0.484       1.040\n",
            "HML            1.1911      1.586      0.751      0.453      -1.921       4.304\n",
            "==============================================================================\n",
            "Omnibus:                       99.951   Durbin-Watson:                   1.980\n",
            "Prob(Omnibus):                  0.000   Jarque-Bera (JB):              542.232\n",
            "Skew:                           0.102   Prob(JB):                    1.80e-118\n",
            "Kurtosis:                       6.281   Cond. No.                     1.66e+03\n",
            "==============================================================================\n",
            "\n",
            "Notes:\n",
            "[1] Standard Errors assume that the covariance matrix of the errors is correctly specified.\n",
            "[2] The condition number is large, 1.66e+03. This might indicate that there are\n",
            "strong multicollinearity or other numerical problems.\n",
            "const    -0.003436\n",
            "Market    2.017169\n",
            "SMB       0.277975\n",
            "HML       1.191101\n",
            "dtype: float64\n"
          ]
        }
      ]
    },
    {
      "cell_type": "code",
      "source": [
        "fama_french_results = fama_french(returns)\n",
        "\n",
        "\n",
        "print(fama_french_results['NVDA'].summary())\n",
        "\n",
        "print(fama_french_results['NVDA'].params)"
      ],
      "metadata": {
        "colab": {
          "base_uri": "https://localhost:8080/"
        },
        "id": "xFeN-IEHXO_g",
        "outputId": "84f03078-0682-4609-bd7e-11a02f49dec6"
      },
      "execution_count": null,
      "outputs": [
        {
          "output_type": "stream",
          "name": "stdout",
          "text": [
            "                            OLS Regression Results                            \n",
            "==============================================================================\n",
            "Dep. Variable:                   NVDA   R-squared:                       0.478\n",
            "Model:                            OLS   Adj. R-squared:                  0.477\n",
            "Method:                 Least Squares   F-statistic:                     366.8\n",
            "Date:                Tue, 08 Apr 2025   Prob (F-statistic):          5.21e-169\n",
            "Time:                        21:45:23   Log-Likelihood:                 2790.1\n",
            "No. Observations:                1204   AIC:                            -5572.\n",
            "Df Residuals:                    1200   BIC:                            -5552.\n",
            "Df Model:                           3                                         \n",
            "Covariance Type:            nonrobust                                         \n",
            "==============================================================================\n",
            "                 coef    std err          t      P>|t|      [0.025      0.975]\n",
            "------------------------------------------------------------------------------\n",
            "const          0.0062      0.003      1.846      0.065      -0.000       0.013\n",
            "Market         2.1515      0.065     33.018      0.000       2.024       2.279\n",
            "SMB           -0.4272      0.276     -1.547      0.122      -0.969       0.115\n",
            "HML           -1.5503      1.129     -1.374      0.170      -3.765       0.664\n",
            "==============================================================================\n",
            "Omnibus:                      219.877   Durbin-Watson:                   2.120\n",
            "Prob(Omnibus):                  0.000   Jarque-Bera (JB):             2274.068\n",
            "Skew:                           0.514   Prob(JB):                         0.00\n",
            "Kurtosis:                       9.654   Cond. No.                     1.66e+03\n",
            "==============================================================================\n",
            "\n",
            "Notes:\n",
            "[1] Standard Errors assume that the covariance matrix of the errors is correctly specified.\n",
            "[2] The condition number is large, 1.66e+03. This might indicate that there are\n",
            "strong multicollinearity or other numerical problems.\n",
            "const     0.006235\n",
            "Market    2.151512\n",
            "SMB      -0.427221\n",
            "HML      -1.550326\n",
            "dtype: float64\n"
          ]
        }
      ]
    }
  ]
}